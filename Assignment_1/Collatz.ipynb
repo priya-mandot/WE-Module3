{
 "cells": [
  {
   "cell_type": "code",
   "execution_count": 12,
   "metadata": {},
   "outputs": [
    {
     "name": "stdout",
     "output_type": "stream",
     "text": [
      "[3, 10, 5, 16, 8, 4, 2, 1]\n",
      "[9, 28, 14, 7, 22, 11, 34, 17, 52, 26, 13, 40, 20, 10, 5, 16, 8, 4, 2, 1]\n"
     ]
    }
   ],
   "source": [
    "def collatz_seq(N):\n",
    "    sequence = [N]  # Initialize the sequence with the starting number N\n",
    "\n",
    "    while N != 1:\n",
    "        # If N is even, divide it by 2\n",
    "        if N % 2 == 0:\n",
    "            N = N // 2\n",
    "        # If N is odd, multiply it by 3 and add 1\n",
    "        else:\n",
    "            N = 3 * N + 1\n",
    "        sequence.append(N)  # Append the next number to the sequence\n",
    "\n",
    "    return sequence\n",
    "\n",
    "# Test cases\n",
    "print(collatz_seq(3))  # Output: [3, 10, 5, 16, 8, 4, 2, 1]\n",
    "print(collatz_seq(9))  # Output: [9, 28, 14, 7, 22, 11, 34, 17, 52, 26, 13, 40, 20, 10, 5, 16, 8, 4, 2, 1]"
   ]
  },
  {
   "cell_type": "code",
   "execution_count": 13,
   "metadata": {},
   "outputs": [
    {
     "name": "stdout",
     "output_type": "stream",
     "text": [
      "Test case passed for N = 3\n",
      "Test case passed for N = 9\n",
      "Test case passed for N = 1\n",
      "Test case passed for N = 2\n",
      "Test case passed for N = 7\n",
      "Test case passed for N = 10\n",
      "Test case passed for N = 100\n"
     ]
    }
   ],
   "source": [
    "def test_collatz_seq():\n",
    "    test_cases = [\n",
    "        (3, [3, 10, 5, 16, 8, 4, 2, 1]),\n",
    "        (9, [9, 28, 14, 7, 22, 11, 34, 17, 52, 26, 13, 40, 20, 10, 5, 16, 8, 4, 2, 1]),\n",
    "        (1, [1]),\n",
    "        (2, [2, 1]),\n",
    "        (7, [7, 22, 11, 34, 17, 52, 26, 13, 40, 20, 10, 5, 16, 8, 4, 2, 1]),\n",
    "        (10, [10, 5, 16, 8, 4, 2, 1]),\n",
    "        (100, [100, 50, 25, 76, 38, 19, 58, 29, 88, 44, 22, 11, 34, 17, 52, 26, 13, 40, 20, 10, 5, 16, 8, 4, 2, 1])\n",
    "    ]\n",
    "\n",
    "    for N, expected_output in test_cases:\n",
    "        actual_output = collatz_seq(N)\n",
    "        if actual_output == expected_output:\n",
    "            print(f\"Test case passed for N = {N}\")\n",
    "        else:\n",
    "            print(f\"Test case failed for N = {N}: Expected {expected_output}, but got {actual_output}\")\n",
    "\n",
    "# Run the test cases\n",
    "test_collatz_seq()\n"
   ]
  }
 ],
 "metadata": {
  "kernelspec": {
   "display_name": "Python 3",
   "language": "python",
   "name": "python3"
  },
  "language_info": {
   "codemirror_mode": {
    "name": "ipython",
    "version": 3
   },
   "file_extension": ".py",
   "mimetype": "text/x-python",
   "name": "python",
   "nbconvert_exporter": "python",
   "pygments_lexer": "ipython3",
   "version": "3.10.12"
  }
 },
 "nbformat": 4,
 "nbformat_minor": 2
}
