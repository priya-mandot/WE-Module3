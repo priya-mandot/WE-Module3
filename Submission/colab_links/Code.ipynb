{
 "cells": [
  {
   "cell_type": "code",
   "execution_count": 1,
   "metadata": {},
   "outputs": [
    {
     "name": "stdout",
     "output_type": "stream",
     "text": [
      "Corpus file generated: corpus.txt\n"
     ]
    }
   ],
   "source": [
    "# Define sample sentences\n",
    "sample_sentences = [\n",
    "    \"The cat sat on the mat.\",\n",
    "    \"The dog barked loudly.\",\n",
    "    \"She walked through the forest.\",\n",
    "    \"He played the guitar.\",\n",
    "    \"They enjoyed their vacation.\",\n",
    "    \"I love eating ice cream.\",\n",
    "    \"We watched a movie last night.\",\n",
    "    \"It's raining outside.\",\n",
    "    \"The sun is shining brightly.\",\n",
    "    \"The flowers are blooming in the garden.\"\n",
    "]\n",
    "\n",
    "# Write sample sentences to a text file\n",
    "corpus_file = 'corpus.txt'\n",
    "with open(corpus_file, 'w', encoding='utf-8') as file:\n",
    "    for sentence in sample_sentences:\n",
    "        file.write(sentence + '\\n')\n",
    "\n",
    "print(\"Corpus file generated:\", corpus_file)\n"
   ]
  },
  {
   "cell_type": "code",
   "execution_count": 8,
   "metadata": {},
   "outputs": [
    {
     "name": "stdout",
     "output_type": "stream",
     "text": [
      "Generated Sentence: The cat sat on the mat. The dog barked loudly. She walked\n"
     ]
    }
   ],
   "source": [
    "import random\n",
    "\n",
    "def generate(filename: str, start_words: list[str], chain_length: int, num_generated: int) -> str:\n",
    "    # Read text from the file\n",
    "    with open(filename, 'r', encoding='utf-8') as file:\n",
    "        text = file.read()\n",
    "\n",
    "    # Create dictionary to store transitions\n",
    "    transitions = {}\n",
    "    words = text.split()\n",
    "\n",
    "    # Build the Markov chain transitions\n",
    "    for i in range(len(words) - chain_length):\n",
    "        key = tuple(words[i:i+chain_length])\n",
    "        value = words[i+chain_length]\n",
    "        if key in transitions:\n",
    "            transitions[key].append(value)\n",
    "        else:\n",
    "            transitions[key] = [value]\n",
    "\n",
    "    # Generate text\n",
    "    current_words = tuple(start_words)\n",
    "    generated_text = list(current_words)\n",
    "\n",
    "    for _ in range(num_generated):\n",
    "        if current_words in transitions:\n",
    "            next_word = random.choice(transitions[current_words])\n",
    "        else:\n",
    "            next_word = random.choice(words)  # Fallback if current state not found\n",
    "        generated_text.append(next_word)\n",
    "        current_words = tuple(generated_text[-chain_length:])\n",
    "\n",
    "    return ' '.join(generated_text)\n",
    "\n",
    "# Define parameters\n",
    "corpus_file = 'corpus.txt'\n",
    "start_words = ['The', 'cat']\n",
    "chain_length = 2\n",
    "num_generated = 10\n",
    "\n",
    "# Generate text using the corpus file\n",
    "generated_sentence = generate(corpus_file, start_words, chain_length, num_generated)\n",
    "print(\"Generated Sentence:\", generated_sentence)\n"
   ]
  },
  {
   "cell_type": "code",
   "execution_count": 9,
   "metadata": {},
   "outputs": [
    {
     "name": "stdout",
     "output_type": "stream",
     "text": [
      "Generated Sentence: The dog barked loudly. She walked through the forest. He played the\n",
      "Generated Sentence: We watched a movie last night. It's raining outside. The sun is\n"
     ]
    }
   ],
   "source": [
    "start_words = ['The', 'dog']\n",
    "chain_length = 2\n",
    "num_generated = 10\n",
    "\n",
    "# Generate text using the corpus file\n",
    "generated_sentence = generate(corpus_file, start_words, chain_length, num_generated)\n",
    "print(\"Generated Sentence:\", generated_sentence)\n",
    "\n",
    "start_words = ['We', 'watched']\n",
    "chain_length = 2\n",
    "num_generated = 10\n",
    "\n",
    "# Generate text using the corpus file\n",
    "generated_sentence = generate(corpus_file, start_words, chain_length, num_generated)\n",
    "print(\"Generated Sentence:\", generated_sentence)"
   ]
  }
 ],
 "metadata": {
  "kernelspec": {
   "display_name": "Python 3",
   "language": "python",
   "name": "python3"
  },
  "language_info": {
   "codemirror_mode": {
    "name": "ipython",
    "version": 3
   },
   "file_extension": ".py",
   "mimetype": "text/x-python",
   "name": "python",
   "nbconvert_exporter": "python",
   "pygments_lexer": "ipython3",
   "version": "3.10.12"
  }
 },
 "nbformat": 4,
 "nbformat_minor": 2
}
